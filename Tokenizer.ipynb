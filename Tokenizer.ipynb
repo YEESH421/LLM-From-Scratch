{
 "cells": [
  {
   "cell_type": "markdown",
   "metadata": {},
   "source": [
    "## Reading in a short story as text sample into Python."
   ]
  },
  {
   "cell_type": "markdown",
   "metadata": {},
   "source": [
    "## Step 1: Creating Tokens"
   ]
  },
  {
   "cell_type": "markdown",
   "metadata": {},
   "source": [
    "<div class=\"alert alert-block alert-success\">\n",
    "\n",
    "The print command prints the total number of characters followed by the first 100\n",
    "characters of this file for illustration purposes. </div>"
   ]
  },
  {
   "cell_type": "code",
   "execution_count": 9,
   "metadata": {},
   "outputs": [
    {
     "name": "stdout",
     "output_type": "stream",
     "text": [
      "Total number of character: 20781\n",
      "THE VERDICT\n",
      "June 1908\n",
      "\n",
      "I had always thought Jack Gisburn rather a cheap genius--though a\n",
      "\n",
      "good fell\n"
     ]
    }
   ],
   "source": [
    "with open(\"the-verdict.txt\", \"r\", encoding=\"utf-8\") as f:\n",
    "    raw_text = f.read()\n",
    "    \n",
    "print(\"Total number of character:\", len(raw_text))\n",
    "print(raw_text[:99])"
   ]
  },
  {
   "cell_type": "markdown",
   "metadata": {},
   "source": [
    "<div class=\"alert alert-block alert-success\">\n",
    "\n",
    "Our goal is to tokenize this 20,479-character short story into individual words and special\n",
    "characters that we can then turn into embeddings for LLM training  </div>"
   ]
  },
  {
   "cell_type": "markdown",
   "metadata": {},
   "source": [
    "<div class=\"alert alert-block alert-warning\">\n",
    "\n",
    "Note that it's common to process millions of articles and hundreds of thousands of\n",
    "books -- many gigabytes of text -- when working with LLMs. However, for educational\n",
    "purposes, it's sufficient to work with smaller text samples like a single book to\n",
    "illustrate the main ideas behind the text processing steps and to make it possible to\n",
    "run it in reasonable time on consumer hardware. </div>"
   ]
  },
  {
   "cell_type": "markdown",
   "metadata": {},
   "source": [
    "<div class=\"alert alert-block alert-success\">\n",
    "\n",
    "How can we best split this text to obtain a list of tokens? For this, we go on a small\n",
    "excursion and use Python's regular expression library re for illustration purposes. (Note\n",
    "that you don't have to learn or memorize any regular expression syntax since we will\n",
    "transition to a pre-built tokenizer later in this chapter.) </div>"
   ]
  },
  {
   "cell_type": "markdown",
   "metadata": {},
   "source": [
    "<div class=\"alert alert-block alert-warning\">\n",
    "\n",
    "Using some simple example text, we can use the re.split command with the following\n",
    "syntax to split a text on whitespace characters:</div>"
   ]
  },
  {
   "cell_type": "code",
   "execution_count": 10,
   "metadata": {},
   "outputs": [
    {
     "name": "stdout",
     "output_type": "stream",
     "text": [
      "['Hello,', ' ', 'world.', ' ', 'This,', ' ', 'is', ' ', 'a', ' ', 'test.']\n"
     ]
    }
   ],
   "source": [
    "import re\n",
    "\n",
    "text = \"Hello, world. This, is a test.\"\n",
    "result = re.split(r'(\\s)', text)\n",
    "\n",
    "print(result)"
   ]
  },
  {
   "cell_type": "markdown",
   "metadata": {},
   "source": [
    "<div class=\"alert alert-block alert-info\">\n",
    "The result is a list of individual words, whitespaces, and punctuation characters:\n",
    "</div>\n"
   ]
  },
  {
   "cell_type": "markdown",
   "metadata": {},
   "source": [
    "<div class=\"alert alert-block alert-warning\">\n",
    "\n",
    "Let's modify the regular expression splits on whitespaces (\\s) and commas, and periods\n",
    "([,.]):</div>"
   ]
  },
  {
   "cell_type": "code",
   "execution_count": 11,
   "metadata": {},
   "outputs": [
    {
     "name": "stdout",
     "output_type": "stream",
     "text": [
      "['Hello', ',', '', ' ', 'world', '.', '', ' ', 'This', ',', '', ' ', 'is', ' ', 'a', ' ', 'test', '.', '']\n"
     ]
    }
   ],
   "source": [
    "result = re.split(r'([,.]|\\s)', text)\n",
    "\n",
    "print(result)"
   ]
  },
  {
   "cell_type": "markdown",
   "metadata": {},
   "source": [
    "<div class=\"alert alert-block alert-info\">\n",
    "We can see that the words and punctuation characters are now separate list entries just as\n",
    "we wanted\n",
    "</div>\n"
   ]
  },
  {
   "cell_type": "markdown",
   "metadata": {},
   "source": [
    "<div class=\"alert alert-block alert-warning\">\n",
    "\n",
    "A small remaining issue is that the list still includes whitespace characters. Optionally, we\n",
    "can remove these redundant characters safely as follows:</div>"
   ]
  },
  {
   "cell_type": "code",
   "execution_count": 12,
   "metadata": {},
   "outputs": [
    {
     "name": "stdout",
     "output_type": "stream",
     "text": [
      "['Hello', ',', 'world', '.', 'This', ',', 'is', 'a', 'test', '.']\n"
     ]
    }
   ],
   "source": [
    "result = [item for item in result if item.strip()]\n",
    "print(result)"
   ]
  },
  {
   "cell_type": "markdown",
   "metadata": {},
   "source": [
    "<div class=\"alert alert-block alert-success\">\n",
    "\n",
    "REMOVING WHITESPACES OR NOT\n",
    "\n",
    "\n",
    "When developing a simple tokenizer, whether we should encode whitespaces as\n",
    "separate characters or just remove them depends on our application and its\n",
    "requirements. Removing whitespaces reduces the memory and computing\n",
    "requirements. However, keeping whitespaces can be useful if we train models that\n",
    "are sensitive to the exact structure of the text (for example, Python code, which is\n",
    "sensitive to indentation and spacing). Here, we remove whitespaces for simplicity\n",
    "and brevity of the tokenized outputs. Later, we will switch to a tokenization scheme\n",
    "that includes whitespaces.\n",
    "\n",
    "</div>"
   ]
  },
  {
   "cell_type": "markdown",
   "metadata": {},
   "source": [
    "<div class=\"alert alert-block alert-warning\">\n",
    "\n",
    "The tokenization scheme we devised above works well on the simple sample text. Let's\n",
    "modify it a bit further so that it can also handle other types of punctuation, such as\n",
    "question marks, quotation marks, and the double-dashes we have seen earlier in the first\n",
    "100 characters of Edith Wharton's short story, along with additional special characters: </div>"
   ]
  },
  {
   "cell_type": "code",
   "execution_count": 13,
   "metadata": {},
   "outputs": [
    {
     "name": "stdout",
     "output_type": "stream",
     "text": [
      "['Hello', ',', 'world', '.', 'Is', 'this', '--', 'a', 'test', '?']\n"
     ]
    }
   ],
   "source": [
    "text = \"Hello, world. Is this-- a test?\"\n",
    "result = re.split(r'([,.:;?_!\"()\\']|--|\\s)', text)\n",
    "result = [item.strip() for item in result if item.strip()]\n",
    "print(result)"
   ]
  },
  {
   "cell_type": "code",
   "execution_count": 14,
   "metadata": {},
   "outputs": [
    {
     "name": "stdout",
     "output_type": "stream",
     "text": [
      "['Hello', ',', 'world', '.', 'Is', 'this', '--', 'a', 'test', '?']\n"
     ]
    }
   ],
   "source": [
    "# Strip whitespace from each item and then filter out any empty strings.\n",
    "result = [item for item in result if item.strip()]\n",
    "print(result)"
   ]
  },
  {
   "cell_type": "code",
   "execution_count": 15,
   "metadata": {},
   "outputs": [
    {
     "name": "stdout",
     "output_type": "stream",
     "text": [
      "['Hello', ',', 'world', '.', 'Is', 'this', '--', 'a', 'test', '?']\n"
     ]
    }
   ],
   "source": [
    "text = \"Hello, world. Is this-- a test?\"\n",
    "\n",
    "result = re.split(r'([,.:;?_!\"()\\']|--|\\s)', text)\n",
    "result = [item.strip() for item in result if item.strip()]\n",
    "print(result)"
   ]
  },
  {
   "cell_type": "markdown",
   "metadata": {},
   "source": [
    "<div class=\"alert alert-block alert-success\">\n",
    "\n",
    "Now that we got a basic tokenizer working, let's apply it to Edith Wharton's entire short\n",
    "story:\n",
    "\n",
    "</div>"
   ]
  },
  {
   "cell_type": "code",
   "execution_count": 16,
   "metadata": {},
   "outputs": [
    {
     "name": "stdout",
     "output_type": "stream",
     "text": [
      "['THE', 'VERDICT', 'June', '1908', 'I', 'had', 'always', 'thought', 'Jack', 'Gisburn', 'rather', 'a', 'cheap', 'genius', '--', 'though', 'a', 'good', 'fellow', 'enough', '--', 'so', 'it', 'was', 'no', 'great', 'surprise', 'to', 'me', 'to']\n"
     ]
    }
   ],
   "source": [
    "preprocessed = re.split(r'([,.:;?_!\"()\\']|--|\\s)', raw_text)\n",
    "preprocessed = [item.strip() for item in preprocessed if item.strip()]\n",
    "print(preprocessed[:30])"
   ]
  },
  {
   "cell_type": "code",
   "execution_count": 17,
   "metadata": {},
   "outputs": [
    {
     "name": "stdout",
     "output_type": "stream",
     "text": [
      "4667\n"
     ]
    }
   ],
   "source": [
    "print(len(preprocessed))\n"
   ]
  },
  {
   "cell_type": "code",
   "execution_count": null,
   "metadata": {},
   "outputs": [],
   "source": []
  },
  {
   "cell_type": "markdown",
   "metadata": {},
   "source": [
    "## Step 2: Creating Token IDs"
   ]
  },
  {
   "cell_type": "markdown",
   "metadata": {},
   "source": [
    "<div class=\"alert alert-block alert-warning\">\n",
    "\n",
    "In the previous section, we tokenized Edith Wharton's short story and assigned it to a\n",
    "Python variable called preprocessed. Let's now create a list of all unique tokens and sort\n",
    "them alphabetically to determine the vocabulary size:</div>"
   ]
  },
  {
   "cell_type": "code",
   "execution_count": null,
   "metadata": {},
   "outputs": [
    {
     "name": "stdout",
     "output_type": "stream",
     "text": [
      "1148\n"
     ]
    }
   ],
   "source": [
    "all_words = sorted(set(preprocessed))\n",
    "vocab_size = len(all_words)\n",
    "\n",
    "print(vocab_size)"
   ]
  },
  {
   "cell_type": "markdown",
   "metadata": {},
   "source": [
    "<div class=\"alert alert-block alert-success\">\n",
    "\n",
    "After determining that the vocabulary size is 1,130 via the above code, we create the\n",
    "vocabulary and print its first 51 entries for illustration purposes:\n",
    "\n",
    "</div>"
   ]
  },
  {
   "cell_type": "code",
   "execution_count": 22,
   "metadata": {},
   "outputs": [
    {
     "name": "stdout",
     "output_type": "stream",
     "text": [
      "{'!': 0, '\"': 1, \"'\": 2, '(': 3, ')': 4, ',': 5, '--': 6, '.': 7, '1908': 8, ':': 9, ';': 10, '?': 11, 'A': 12, 'AM': 13, 'Ah': 14, 'Among': 15, 'And': 16, 'Are': 17, 'Arrt': 18, 'As': 19, 'At': 20, 'Be': 21, 'Begin': 22, 'Burlington': 23, 'But': 24, 'By': 25, 'Carlo': 26, 'Chicago': 27, 'Claude': 28, 'Come': 29, 'Croft': 30, 'Destroyed': 31, 'Devonshire': 32, 'Don': 33, 'Dubarry': 34, 'Emperors': 35, 'End': 36, 'FELT': 37, 'Florence': 38, 'For': 39, 'Gallery': 40, 'Gideon': 41, 'Gisburn': 42, 'Gisburns': 43, 'Grafton': 44, 'Greek': 45, 'Grindle': 46, 'Grindles': 47, 'HAD': 48, 'HAS': 49, 'HAVE': 50, 'Had': 51, 'Hang': 52, 'Has': 53, 'He': 54, 'Her': 55, 'Hermia': 56, 'His': 57, 'How': 58, 'I': 59, 'If': 60, 'In': 61, 'It': 62, 'Jack': 63, 'Jove': 64, 'June': 65, 'Just': 66, 'KNOWN': 67, 'Lord': 68, 'MINE': 69, 'Made': 70, 'Miss': 71, 'Money': 72, 'Monte': 73, 'Moon-dancers': 74, 'Mr': 75, 'Mrs': 76, 'My': 77, 'NEVER': 78, 'NOT': 79, 'Never': 80, 'No': 81, 'Now': 82, 'Nutley': 83, 'Of': 84, 'Oh': 85, 'On': 86, 'Once': 87, 'Only': 88, 'Or': 89, 'Perhaps': 90, 'Poor': 91, 'Professional': 92, 'RS': 93, 'Renaissance': 94, 'Rickham': 95, 'Riviera': 96, 'Rome': 97, 'Russian': 98, 'Sevres': 99, 'She': 100, 'Stroud': 101, 'Strouds': 102, 'Suddenly': 103, 'THAT': 104, 'THE': 105, 'That': 106, 'The': 107, 'Then': 108, 'There': 109, 'They': 110, 'This': 111, 'Those': 112, 'Though': 113, 'Thwing': 114, 'Thwings': 115, 'To': 116, 'Usually': 117, 'VERDICT': 118, 'Venetian': 119, 'Verdict': 120, 'Victor': 121, 'WAS': 122, 'WERE': 123, 'Was': 124, 'We': 125, 'Well': 126, 'What': 127, 'When': 128, 'Why': 129, 'Yes': 130, 'You': 131, 'a': 132, 'abdication': 133, 'able': 134, 'about': 135, 'above': 136, 'abruptly': 137, 'absolute': 138, 'absorbed': 139, 'absurdity': 140, 'academic': 141, 'accuse': 142, 'accustomed': 143, 'across': 144, 'activity': 145, 'add': 146, 'added': 147, 'admirers': 148, 'adopted': 149, 'adulation': 150, 'advance': 151, 'aesthetic': 152, 'affect': 153, 'afraid': 154, 'after': 155, 'afterward': 156, 'again': 157, 'ago': 158, 'ah': 159, 'air': 160, 'alive': 161, 'all': 162, 'almost': 163, 'alone': 164, 'along': 165, 'always': 166, 'amazement': 167, 'amid': 168, 'among': 169, 'amplest': 170, 'amusing': 171, 'an': 172, 'and': 173, 'another': 174, 'answer': 175, 'answered': 176, 'any': 177, 'anything': 178, 'anywhere': 179, 'apparent': 180, 'apparently': 181, 'appearance': 182, 'appeared': 183, 'appointed': 184, 'are': 185, 'arm': 186, 'arm-chair': 187, 'arm-chairs': 188, 'arms': 189, 'art': 190, 'articles': 191, 'artist': 192, 'as': 193, 'aside': 194, 'asked': 195, 'at': 196, 'atmosphere': 197, 'atom': 198, 'attack': 199, 'attention': 200, 'attitude': 201, 'audacities': 202, 'away': 203, 'awful': 204, 'axioms': 205, 'azaleas': 206, 'back': 207, 'background': 208, 'balance': 209, 'balancing': 210, 'balustraded': 211, 'basking': 212, 'bath-rooms': 213, 'be': 214, 'beaming': 215, 'bean-stalk': 216, 'bear': 217, 'beard': 218, 'beauty': 219, 'became': 220, 'because': 221, 'becoming': 222, 'bed': 223, 'been': 224, 'before': 225, 'began': 226, 'begun': 227, 'behind': 228, 'being': 229, 'believed': 230, 'beneath': 231, 'bespoke': 232, 'better': 233, 'between': 234, 'big': 235, 'bits': 236, 'bitterness': 237, 'blocked': 238, 'born': 239, 'borne': 240, 'boudoir': 241, 'bravura': 242, 'break': 243, 'breaking': 244, 'breathing': 245, 'bric-a-brac': 246, 'briefly': 247, 'brings': 248, 'bronzes': 249, 'brought': 250, 'brown': 251, 'brush': 252, 'bull': 253, 'business': 254, 'but': 255, 'buying': 256, 'by': 257, 'called': 258, 'came': 259, 'can': 260, 'canvas': 261, 'canvases': 262, 'cards': 263, 'care': 264, 'career': 265, 'caught': 266, 'central': 267, 'chair': 268, 'chap': 269, 'characteristic': 270, 'charming': 271, 'cheap': 272, 'check': 273, 'cheeks': 274, 'chest': 275, 'chimney-piece': 276, 'chucked': 277, 'cigar': 278, 'cigarette': 279, 'cigars': 280, 'circulation': 281, 'circumstance': 282, 'circus-clown': 283, 'claimed': 284, 'clasping': 285, 'clear': 286, 'cleverer': 287, 'close': 288, 'clue': 289, 'coat': 290, 'collapsed': 291, 'colour': 292, 'come': 293, 'comfortable': 294, 'coming': 295, 'companion': 296, 'compared': 297, 'complex': 298, 'confident': 299, 'congesting': 300, 'conjugal': 301, 'constraint': 302, 'consummate': 303, 'contended': 304, 'continued': 305, 'corner': 306, 'corrected': 307, 'cotta': 308, 'could': 309, 'couldn': 310, 'count': 311, 'countenance': 312, 'couple': 313, 'course': 314, 'covered': 315, 'craft': 316, 'cried': 317, 'crossed': 318, 'crowned': 319, 'crumbled': 320, 'cry': 321, 'cured': 322, 'curiosity': 323, 'curious': 324, 'current': 325, 'curtains': 326, 'd': 327, 'dabble': 328, 'damask': 329, 'dark': 330, 'dashed': 331, 'day': 332, 'days': 333, 'dead': 334, 'deadening': 335, 'dear': 336, 'deep': 337, 'deerhound': 338, 'degree': 339, 'delicate': 340, 'demand': 341, 'denied': 342, 'deploring': 343, 'deprecating': 344, 'deprecatingly': 345, 'desire': 346, 'destroyed': 347, 'destruction': 348, 'desultory': 349, 'detail': 350, 'diagnosis': 351, 'did': 352, 'didn': 353, 'died': 354, 'dim': 355, 'dimmest': 356, 'dingy': 357, 'dining-room': 358, 'disarming': 359, 'discovery': 360, 'discrimination': 361, 'discussion': 362, 'disdain': 363, 'disdained': 364, 'disease': 365, 'disguised': 366, 'display': 367, 'dissatisfied': 368, 'distinguished': 369, 'distract': 370, 'divert': 371, 'do': 372, 'doesn': 373, 'doing': 374, 'domestic': 375, 'don': 376, 'done': 377, 'donkey': 378, 'down': 379, 'dozen': 380, 'dragged': 381, 'drawing-room': 382, 'drawing-rooms': 383, 'drawn': 384, 'dress-closets': 385, 'drew': 386, 'dropped': 387, 'each': 388, 'earth': 389, 'ease': 390, 'easel': 391, 'easy': 392, 'echoed': 393, 'economy': 394, 'effect': 395, 'effects': 396, 'efforts': 397, 'egregious': 398, 'eighteenth-century': 399, 'elbow': 400, 'elegant': 401, 'else': 402, 'embarrassed': 403, 'enabled': 404, 'end': 405, 'endless': 406, 'enjoy': 407, 'enlightenment': 408, 'enough': 409, 'ensuing': 410, 'equally': 411, 'equanimity': 412, 'escape': 413, 'established': 414, 'etching': 415, 'even': 416, 'event': 417, 'ever': 418, 'everlasting': 419, 'every': 420, 'exasperated': 421, 'except': 422, 'excuse': 423, 'excusing': 424, 'existed': 425, 'expected': 426, 'exquisite': 427, 'exquisitely': 428, 'extenuation': 429, 'exterminating': 430, 'extracting': 431, 'eye': 432, 'eyebrows': 433, 'eyes': 434, 'face': 435, 'faces': 436, 'fact': 437, 'faded': 438, 'failed': 439, 'failure': 440, 'fair': 441, 'faith': 442, 'false': 443, 'familiar': 444, 'famille-verte': 445, 'fancy': 446, 'fashionable': 447, 'fate': 448, 'feather': 449, 'feet': 450, 'fell': 451, 'fellow': 452, 'felt': 453, 'few': 454, 'fewer': 455, 'finality': 456, 'find': 457, 'fingers': 458, 'first': 459, 'fit': 460, 'fitting': 461, 'five': 462, 'flash': 463, 'flashed': 464, 'florid': 465, 'flowers': 466, 'fluently': 467, 'flung': 468, 'follow': 469, 'followed': 470, 'fond': 471, 'footstep': 472, 'for': 473, 'forced': 474, 'forcing': 475, 'forehead': 476, 'foreign': 477, 'foreseen': 478, 'forgive': 479, 'forgotten': 480, 'form': 481, 'formed': 482, 'forming': 483, 'forward': 484, 'fostered': 485, 'found': 486, 'foundations': 487, 'fragment': 488, 'fragments': 489, 'frame': 490, 'frames': 491, 'frequently': 492, 'friend': 493, 'from': 494, 'full': 495, 'fullest': 496, 'furiously': 497, 'furrowed': 498, 'garlanded': 499, 'garlands': 500, 'gave': 501, 'genial': 502, 'genius': 503, 'gesture': 504, 'get': 505, 'getting': 506, 'give': 507, 'given': 508, 'glad': 509, 'glanced': 510, 'glimpse': 511, 'gloried': 512, 'glory': 513, 'go': 514, 'going': 515, 'gone': 516, 'good': 517, 'good-': 518, 'good-breeding': 519, 'good-humoured': 520, 'got': 521, 'grace': 522, 'gradually': 523, 'gray': 524, 'grayish': 525, 'great': 526, 'greatest': 527, 'greatness': 528, 'grew': 529, 'groping': 530, 'growing': 531, 'had': 532, 'hadn': 533, 'hair': 534, 'half': 535, 'half-light': 536, 'half-mechanically': 537, 'hall': 538, 'hand': 539, 'hands': 540, 'handsome': 541, 'hanging': 542, 'happen': 543, 'happened': 544, 'hard': 545, 'hardly': 546, 'have': 547, 'haven': 548, 'having': 549, 'he': 550, 'head': 551, 'hear': 552, 'heard': 553, 'heart': 554, 'height': 555, 'her': 556, 'here': 557, 'hermit': 558, 'herself': 559, 'hesitations': 560, 'hide': 561, 'high': 562, 'him': 563, 'himself': 564, 'hint': 565, 'his': 566, 'history': 567, 'holding': 568, 'home': 569, 'honour': 570, 'hooded': 571, 'hostess': 572, 'hot-house': 573, 'hour': 574, 'hours': 575, 'house': 576, 'how': 577, 'humoured': 578, 'hung': 579, 'husband': 580, 'idea': 581, 'idle': 582, 'idling': 583, 'if': 584, 'immediately': 585, 'in': 586, 'incense': 587, 'indifferent': 588, 'inevitable': 589, 'inevitably': 590, 'inflexible': 591, 'insensible': 592, 'insignificant': 593, 'instinctively': 594, 'instructive': 595, 'interesting': 596, 'into': 597, 'ironic': 598, 'irony': 599, 'irrelevance': 600, 'irrevocable': 601, 'is': 602, 'it': 603, 'its': 604, 'itself': 605, 'jardiniere': 606, 'jealousy': 607, 'just': 608, 'keep': 609, 'kept': 610, 'kind': 611, 'knees': 612, 'knew': 613, 'know': 614, 'laid': 615, 'lair': 616, 'landing': 617, 'language': 618, 'last': 619, 'late': 620, 'later': 621, 'latter': 622, 'laugh': 623, 'laughed': 624, 'lay': 625, 'leading': 626, 'lean': 627, 'learned': 628, 'least': 629, 'leathery': 630, 'leave': 631, 'led': 632, 'left': 633, 'leisure': 634, 'lends': 635, 'lent': 636, 'let': 637, 'lies': 638, 'life': 639, 'life-': 640, 'lift': 641, 'lifted': 642, 'light': 643, 'lightly': 644, 'like': 645, 'liked': 646, 'likeness': 647, 'line': 648, 'lines': 649, 'lingered': 650, 'lips': 651, 'lit': 652, 'little': 653, 'live': 654, 'll': 655, 'loathing': 656, 'long': 657, 'longed': 658, 'longer': 659, 'look': 660, 'looked': 661, 'looking': 662, 'lose': 663, 'loss': 664, 'lounging': 665, 'lovely': 666, 'lucky': 667, 'lump': 668, 'luncheon-table': 669, 'luxury': 670, 'lying': 671, 'made': 672, 'make': 673, 'man': 674, 'manage': 675, 'managed': 676, 'mantel-piece': 677, 'marble': 678, 'married': 679, 'may': 680, 'me': 681, 'meant': 682, 'mediocrity': 683, 'medium': 684, 'mentioned': 685, 'mere': 686, 'merely': 687, 'met': 688, 'might': 689, 'mighty': 690, 'millionaire': 691, 'mine': 692, 'minute': 693, 'minutes': 694, 'mirrors': 695, 'modest': 696, 'modesty': 697, 'moment': 698, 'money': 699, 'monumental': 700, 'mood': 701, 'morbidly': 702, 'more': 703, 'most': 704, 'mourn': 705, 'mourned': 706, 'moustache': 707, 'moved': 708, 'much': 709, 'muddling': 710, 'multiplied': 711, 'murmur': 712, 'muscles': 713, 'must': 714, 'my': 715, 'myself': 716, 'mysterious': 717, 'naive': 718, 'near': 719, 'nearly': 720, 'negatived': 721, 'nervous': 722, 'nervousness': 723, 'neutral': 724, 'never': 725, 'next': 726, 'no': 727, 'none': 728, 'not': 729, 'note': 730, 'nothing': 731, 'now': 732, 'nymphs': 733, 'oak': 734, 'obituary': 735, 'object': 736, 'objects': 737, 'occurred': 738, 'oddly': 739, 'of': 740, 'off': 741, 'often': 742, 'oh': 743, 'old': 744, 'on': 745, 'once': 746, 'one': 747, 'ones': 748, 'only': 749, 'onto': 750, 'open': 751, 'or': 752, 'other': 753, 'our': 754, 'ourselves': 755, 'out': 756, 'outline': 757, 'oval': 758, 'over': 759, 'own': 760, 'packed': 761, 'paid': 762, 'paint': 763, 'painted': 764, 'painter': 765, 'painting': 766, 'pale': 767, 'paled': 768, 'palm-trees': 769, 'panel': 770, 'panelling': 771, 'pardonable': 772, 'pardoned': 773, 'part': 774, 'passages': 775, 'passing': 776, 'past': 777, 'pastels': 778, 'pathos': 779, 'patient': 780, 'people': 781, 'perceptible': 782, 'perfect': 783, 'persistence': 784, 'persuasively': 785, 'phrase': 786, 'picture': 787, 'pictures': 788, 'pines': 789, 'pink': 790, 'place': 791, 'placed': 792, 'plain': 793, 'platitudes': 794, 'pleased': 795, 'pockets': 796, 'point': 797, 'poised': 798, 'poor': 799, 'portrait': 800, 'posing': 801, 'possessed': 802, 'poverty': 803, 'predicted': 804, 'preliminary': 805, 'presenting': 806, 'presses': 807, 'prestidigitation': 808, 'pretty': 809, 'previous': 810, 'price': 811, 'pride': 812, 'princely': 813, 'prism': 814, 'problem': 815, 'proclaiming': 816, 'prodigious': 817, 'profusion': 818, 'protest': 819, 'prove': 820, 'public': 821, 'purblind': 822, 'purely': 823, 'pushed': 824, 'put': 825, 'qualities': 826, 'quality': 827, 'queerly': 828, 'question': 829, 'quickly': 830, 'quietly': 831, 'quite': 832, 'quote': 833, 'rain': 834, 'raised': 835, 'random': 836, 'rather': 837, 're': 838, 'real': 839, 'really': 840, 'reared': 841, 'reason': 842, 'reassurance': 843, 'recovering': 844, 'recreated': 845, 'reflected': 846, 'reflection': 847, 'regrets': 848, 'relatively': 849, 'remained': 850, 'remember': 851, 'reminded': 852, 'repeating': 853, 'represented': 854, 'reproduction': 855, 'resented': 856, 'resolve': 857, 'resources': 858, 'rest': 859, 'rich': 860, 'ridiculous': 861, 'robbed': 862, 'romantic': 863, 'room': 864, 'rose': 865, 'rule': 866, 'run': 867, 's': 868, 'said': 869, 'same': 870, 'satisfaction': 871, 'savour': 872, 'saw': 873, 'say': 874, 'saying': 875, 'says': 876, 'scorn': 877, 'scornful': 878, 'secret': 879, 'see': 880, 'seemed': 881, 'seen': 882, 'self-confident': 883, 'send': 884, 'sensation': 885, 'sensitive': 886, 'sent': 887, 'serious': 888, 'set': 889, 'sex': 890, 'shade': 891, 'shaking': 892, 'shall': 893, 'she': 894, 'shirked': 895, 'short': 896, 'should': 897, 'shoulder': 898, 'shoulders': 899, 'show': 900, 'showed': 901, 'showy': 902, 'shrug': 903, 'shrugged': 904, 'sight': 905, 'sign': 906, 'silent': 907, 'silver': 908, 'similar': 909, 'simpleton': 910, 'simplifications': 911, 'simply': 912, 'since': 913, 'single': 914, 'sitter': 915, 'sitters': 916, 'sketch': 917, 'skill': 918, 'slight': 919, 'slightly': 920, 'slowly': 921, 'small': 922, 'smile': 923, 'smiling': 924, 'sneer': 925, 'so': 926, 'solace': 927, 'some': 928, 'somebody': 929, 'something': 930, 'spacious': 931, 'spaniel': 932, 'speaking-tubes': 933, 'speculations': 934, 'spite': 935, 'splash': 936, 'square': 937, 'stairs': 938, 'stammer': 939, 'stand': 940, 'standing': 941, 'started': 942, 'stay': 943, 'still': 944, 'stocked': 945, 'stood': 946, 'stopped': 947, 'stopping': 948, 'straddling': 949, 'straight': 950, 'strain': 951, 'straining': 952, 'strange': 953, 'straw': 954, 'stream': 955, 'stroke': 956, 'strokes': 957, 'strolled': 958, 'strongest': 959, 'strongly': 960, 'struck': 961, 'studio': 962, 'stuff': 963, 'subject': 964, 'substantial': 965, 'suburban': 966, 'such': 967, 'suddenly': 968, 'suffered': 969, 'sugar': 970, 'suggested': 971, 'sunburn': 972, 'sunburnt': 973, 'sunlit': 974, 'superb': 975, 'sure': 976, 'surest': 977, 'surface': 978, 'surprise': 979, 'surprised': 980, 'surrounded': 981, 'suspected': 982, 'sweetly': 983, 'sweetness': 984, 'swelling': 985, 'swept': 986, 'swum': 987, 't': 988, 'table': 989, 'take': 990, 'taken': 991, 'talking': 992, 'tea': 993, 'tears': 994, 'technicalities': 995, 'technique': 996, 'tell': 997, 'tells': 998, 'tempting': 999, 'terra-': 1000, 'terrace': 1001, 'terraces': 1002, 'terribly': 1003, 'than': 1004, 'that': 1005, 'the': 1006, 'their': 1007, 'them': 1008, 'then': 1009, 'there': 1010, 'therefore': 1011, 'they': 1012, 'thin': 1013, 'thing': 1014, 'things': 1015, 'think': 1016, 'this': 1017, 'thither': 1018, 'those': 1019, 'though': 1020, 'thought': 1021, 'three': 1022, 'threshold': 1023, 'threw': 1024, 'through': 1025, 'throwing': 1026, 'tie': 1027, 'till': 1028, 'time': 1029, 'timorously': 1030, 'tinge': 1031, 'tips': 1032, 'tired': 1033, 'to': 1034, 'told': 1035, 'tone': 1036, 'tones': 1037, 'too': 1038, 'took': 1039, 'tottering': 1040, 'touched': 1041, 'toward': 1042, 'trace': 1043, 'trade': 1044, 'transmute': 1045, 'traps': 1046, 'travelled': 1047, 'tribute': 1048, 'tributes': 1049, 'tricks': 1050, 'tried': 1051, 'trouser-': 1052, 'true': 1053, 'truth': 1054, 'turned': 1055, 'twenty': 1056, 'twenty-four': 1057, 'twice': 1058, 'twirling': 1059, 'unaccountable': 1060, 'uncertain': 1061, 'under': 1062, 'underlay': 1063, 'underneath': 1064, 'understand': 1065, 'unexpected': 1066, 'untouched': 1067, 'unusual': 1068, 'up': 1069, 'up-stream': 1070, 'upon': 1071, 'upset': 1072, 'upstairs': 1073, 'us': 1074, 'used': 1075, 'usual': 1076, 'value': 1077, 'varnishing': 1078, 'vases': 1079, 've': 1080, 'veins': 1081, 'velveteen': 1082, 'very': 1083, 'villa': 1084, 'vindicated': 1085, 'virtuosity': 1086, 'vista': 1087, 'vocation': 1088, 'voice': 1089, 'wall': 1090, 'wander': 1091, 'want': 1092, 'wanted': 1093, 'wants': 1094, 'was': 1095, 'wasn': 1096, 'watched': 1097, 'watching': 1098, 'water-colour': 1099, 'waves': 1100, 'way': 1101, 'weekly': 1102, 'weeks': 1103, 'welcome': 1104, 'went': 1105, 'were': 1106, 'what': 1107, 'when': 1108, 'whenever': 1109, 'where': 1110, 'which': 1111, 'while': 1112, 'white': 1113, 'white-panelled': 1114, 'who': 1115, 'whole': 1116, 'whom': 1117, 'why': 1118, 'wide': 1119, 'widow': 1120, 'wife': 1121, 'wild': 1122, 'wincing': 1123, 'window-curtains': 1124, 'wish': 1125, 'with': 1126, 'without': 1127, 'wits': 1128, 'woman': 1129, 'women': 1130, 'won': 1131, 'wonder': 1132, 'wondered': 1133, 'word': 1134, 'work': 1135, 'working': 1136, 'worth': 1137, 'would': 1138, 'wouldn': 1139, 'year': 1140, 'years': 1141, 'yellow': 1142, 'yet': 1143, 'you': 1144, 'younger': 1145, 'your': 1146, 'yourself': 1147}\n"
     ]
    }
   ],
   "source": [
    "vocab = {token:integer for integer,token in enumerate(all_words)}\n",
    "print(vocab)\n"
   ]
  },
  {
   "cell_type": "code",
   "execution_count": 20,
   "metadata": {},
   "outputs": [
    {
     "name": "stdout",
     "output_type": "stream",
     "text": [
      "('!', 0)\n",
      "('\"', 1)\n",
      "(\"'\", 2)\n",
      "('(', 3)\n",
      "(')', 4)\n",
      "(',', 5)\n",
      "('--', 6)\n",
      "('.', 7)\n",
      "('1908', 8)\n",
      "(':', 9)\n",
      "(';', 10)\n",
      "('?', 11)\n",
      "('A', 12)\n",
      "('AM', 13)\n",
      "('Ah', 14)\n",
      "('Among', 15)\n",
      "('And', 16)\n",
      "('Are', 17)\n",
      "('Arrt', 18)\n",
      "('As', 19)\n",
      "('At', 20)\n",
      "('Be', 21)\n",
      "('Begin', 22)\n",
      "('Burlington', 23)\n",
      "('But', 24)\n",
      "('By', 25)\n",
      "('Carlo', 26)\n",
      "('Chicago', 27)\n",
      "('Claude', 28)\n",
      "('Come', 29)\n",
      "('Croft', 30)\n",
      "('Destroyed', 31)\n",
      "('Devonshire', 32)\n",
      "('Don', 33)\n",
      "('Dubarry', 34)\n",
      "('Emperors', 35)\n",
      "('End', 36)\n",
      "('FELT', 37)\n",
      "('Florence', 38)\n",
      "('For', 39)\n",
      "('Gallery', 40)\n",
      "('Gideon', 41)\n",
      "('Gisburn', 42)\n",
      "('Gisburns', 43)\n",
      "('Grafton', 44)\n",
      "('Greek', 45)\n",
      "('Grindle', 46)\n",
      "('Grindles', 47)\n",
      "('HAD', 48)\n",
      "('HAS', 49)\n",
      "('HAVE', 50)\n"
     ]
    }
   ],
   "source": [
    "for i, item in enumerate(vocab.items()):\n",
    "    print(item)\n",
    "    if i >= 50:\n",
    "        break"
   ]
  },
  {
   "cell_type": "markdown",
   "metadata": {},
   "source": [
    "<div class=\"alert alert-block alert-info\">\n",
    "As we can see, based on the output above, the dictionary contains individual tokens\n",
    "associated with unique integer labels. \n",
    "</div>"
   ]
  },
  {
   "cell_type": "markdown",
   "metadata": {},
   "source": [
    "<div class=\"alert alert-block alert-success\">\n",
    "\n",
    "Later in this book, when we want to convert the outputs of an LLM from numbers back into\n",
    "text, we also need a way to turn token IDs into text. \n",
    "\n",
    "For this, we can create an inverse\n",
    "version of the vocabulary that maps token IDs back to corresponding text tokens.\n",
    "\n",
    "</div>"
   ]
  },
  {
   "cell_type": "markdown",
   "metadata": {},
   "source": [
    "<div class=\"alert alert-block alert-success\">\n",
    "\n",
    "Let's implement a complete tokenizer class in Python.\n",
    "\n",
    "The class will have an encode method that splits\n",
    "text into tokens and carries out the string-to-integer mapping to produce token IDs via the\n",
    "vocabulary. \n",
    "\n",
    "In addition, we implement a decode method that carries out the reverse\n",
    "integer-to-string mapping to convert the token IDs back into text.\n",
    "\n",
    "</div>"
   ]
  },
  {
   "cell_type": "markdown",
   "metadata": {},
   "source": [
    "<div class=\"alert alert-block alert-info\">\n",
    "    \n",
    "Step 1: Store the vocabulary as a class attribute for access in the encode and decode methods\n",
    "    \n",
    "Step 2: Create an inverse vocabulary that maps token IDs back to the original text tokens\n",
    "\n",
    "Step 3: Process input text into token IDs\n",
    "\n",
    "Step 4: Convert token IDs back into text\n",
    "\n",
    "Step 5: Replace spaces before the specified punctuation\n",
    "\n",
    "</div>\n",
    "\n"
   ]
  },
  {
   "cell_type": "code",
   "execution_count": 24,
   "metadata": {},
   "outputs": [],
   "source": [
    "class SimpleTokenizerV1:\n",
    "    def __init__(self, vocab):\n",
    "        self.str_to_int = vocab\n",
    "        self.int_to_str = {i:s for s,i in vocab.items()}\n",
    "    \n",
    "    def encode(self, text):\n",
    "        preprocessed = re.split(r'([,.:;?_!\"()\\']|--|\\s)', text)\n",
    "                                \n",
    "        preprocessed = [\n",
    "            item.strip() for item in preprocessed if item.strip()\n",
    "        ]\n",
    "        ids = [self.str_to_int[s] for s in preprocessed]\n",
    "        return ids\n",
    "        \n",
    "    def decode(self, ids):\n",
    "        text = \" \".join([self.int_to_str[i] for i in ids])\n",
    "        # Replace spaces before the specified punctuations\n",
    "        text = re.sub(r'\\s+([,.?!\"()\\'])', r'\\1', text)\n",
    "        return text"
   ]
  },
  {
   "cell_type": "markdown",
   "metadata": {},
   "source": [
    "<div class=\"alert alert-block alert-success\">\n",
    "\n",
    "Let's instantiate a new tokenizer object from the SimpleTokenizerV1 class and tokenize a\n",
    "passage from Edith Wharton's short story to try it out in practice:\n",
    "</div>"
   ]
  },
  {
   "cell_type": "code",
   "execution_count": 27,
   "metadata": {},
   "outputs": [
    {
     "name": "stdout",
     "output_type": "stream",
     "text": [
      "[1, 62, 2, 868, 1006, 619, 550, 764, 5, 1144, 614, 5, 1, 76, 7, 42, 869, 1126, 772, 812, 7]\n"
     ]
    }
   ],
   "source": [
    "tokenizer = SimpleTokenizerV1(vocab)\n",
    "\n",
    "text = \"\"\"\"It's the last he painted, you know,\" \n",
    "           Mrs. Gisburn said with pardonable pride.\"\"\"\n",
    "ids = tokenizer.encode(text)\n",
    "print(ids)"
   ]
  },
  {
   "cell_type": "markdown",
   "metadata": {},
   "source": [
    "<div class=\"alert alert-block alert-info\">\n",
    "    \n",
    "The code above prints the following token IDs:\n",
    "Next, let's see if we can turn these token IDs back into text using the decode method:\n",
    "</div>"
   ]
  },
  {
   "cell_type": "code",
   "execution_count": 28,
   "metadata": {},
   "outputs": [
    {
     "data": {
      "text/plain": [
       "'\" It\\' s the last he painted, you know,\" Mrs. Gisburn said with pardonable pride.'"
      ]
     },
     "execution_count": 28,
     "metadata": {},
     "output_type": "execute_result"
    }
   ],
   "source": [
    "tokenizer.decode(ids)\n"
   ]
  },
  {
   "cell_type": "markdown",
   "metadata": {},
   "source": [
    "<div class=\"alert alert-block alert-info\">\n",
    "    \n",
    "Based on the output above, we can see that the decode method successfully converted the\n",
    "token IDs back into the original text.\n",
    "</div>"
   ]
  },
  {
   "cell_type": "markdown",
   "metadata": {},
   "source": [
    "<div class=\"alert alert-block alert-success\">\n",
    "\n",
    "So far, so good. We implemented a tokenizer capable of tokenizing and de-tokenizing\n",
    "text based on a snippet from the training set. \n",
    "\n",
    "Let's now apply it to a new text sample that\n",
    "is not contained in the training set:\n",
    "</div>"
   ]
  },
  {
   "cell_type": "code",
   "execution_count": 29,
   "metadata": {},
   "outputs": [
    {
     "ename": "KeyError",
     "evalue": "'Hello'",
     "output_type": "error",
     "traceback": [
      "\u001b[31m---------------------------------------------------------------------------\u001b[39m",
      "\u001b[31mKeyError\u001b[39m                                  Traceback (most recent call last)",
      "\u001b[36mCell\u001b[39m\u001b[36m \u001b[39m\u001b[32mIn[29]\u001b[39m\u001b[32m, line 2\u001b[39m\n\u001b[32m      1\u001b[39m text = \u001b[33m\"\u001b[39m\u001b[33mHello, do you like tea?\u001b[39m\u001b[33m\"\u001b[39m\n\u001b[32m----> \u001b[39m\u001b[32m2\u001b[39m \u001b[38;5;28mprint\u001b[39m(\u001b[43mtokenizer\u001b[49m\u001b[43m.\u001b[49m\u001b[43mencode\u001b[49m\u001b[43m(\u001b[49m\u001b[43mtext\u001b[49m\u001b[43m)\u001b[49m)\n",
      "\u001b[36mCell\u001b[39m\u001b[36m \u001b[39m\u001b[32mIn[24]\u001b[39m\u001b[32m, line 12\u001b[39m, in \u001b[36mSimpleTokenizerV1.encode\u001b[39m\u001b[34m(self, text)\u001b[39m\n\u001b[32m      7\u001b[39m preprocessed = re.split(\u001b[33mr\u001b[39m\u001b[33m'\u001b[39m\u001b[33m([,.:;?_!\u001b[39m\u001b[33m\"\u001b[39m\u001b[33m()\u001b[39m\u001b[38;5;130;01m\\'\u001b[39;00m\u001b[33m]|--|\u001b[39m\u001b[33m\\\u001b[39m\u001b[33ms)\u001b[39m\u001b[33m'\u001b[39m, text)\n\u001b[32m      9\u001b[39m preprocessed = [\n\u001b[32m     10\u001b[39m     item.strip() \u001b[38;5;28;01mfor\u001b[39;00m item \u001b[38;5;129;01min\u001b[39;00m preprocessed \u001b[38;5;28;01mif\u001b[39;00m item.strip()\n\u001b[32m     11\u001b[39m ]\n\u001b[32m---> \u001b[39m\u001b[32m12\u001b[39m ids = \u001b[43m[\u001b[49m\u001b[38;5;28;43mself\u001b[39;49m\u001b[43m.\u001b[49m\u001b[43mstr_to_int\u001b[49m\u001b[43m[\u001b[49m\u001b[43ms\u001b[49m\u001b[43m]\u001b[49m\u001b[43m \u001b[49m\u001b[38;5;28;43;01mfor\u001b[39;49;00m\u001b[43m \u001b[49m\u001b[43ms\u001b[49m\u001b[43m \u001b[49m\u001b[38;5;129;43;01min\u001b[39;49;00m\u001b[43m \u001b[49m\u001b[43mpreprocessed\u001b[49m\u001b[43m]\u001b[49m\n\u001b[32m     13\u001b[39m \u001b[38;5;28;01mreturn\u001b[39;00m ids\n",
      "\u001b[36mCell\u001b[39m\u001b[36m \u001b[39m\u001b[32mIn[24]\u001b[39m\u001b[32m, line 12\u001b[39m, in \u001b[36m<listcomp>\u001b[39m\u001b[34m(.0)\u001b[39m\n\u001b[32m      7\u001b[39m preprocessed = re.split(\u001b[33mr\u001b[39m\u001b[33m'\u001b[39m\u001b[33m([,.:;?_!\u001b[39m\u001b[33m\"\u001b[39m\u001b[33m()\u001b[39m\u001b[38;5;130;01m\\'\u001b[39;00m\u001b[33m]|--|\u001b[39m\u001b[33m\\\u001b[39m\u001b[33ms)\u001b[39m\u001b[33m'\u001b[39m, text)\n\u001b[32m      9\u001b[39m preprocessed = [\n\u001b[32m     10\u001b[39m     item.strip() \u001b[38;5;28;01mfor\u001b[39;00m item \u001b[38;5;129;01min\u001b[39;00m preprocessed \u001b[38;5;28;01mif\u001b[39;00m item.strip()\n\u001b[32m     11\u001b[39m ]\n\u001b[32m---> \u001b[39m\u001b[32m12\u001b[39m ids = [\u001b[38;5;28;43mself\u001b[39;49m\u001b[43m.\u001b[49m\u001b[43mstr_to_int\u001b[49m\u001b[43m[\u001b[49m\u001b[43ms\u001b[49m\u001b[43m]\u001b[49m \u001b[38;5;28;01mfor\u001b[39;00m s \u001b[38;5;129;01min\u001b[39;00m preprocessed]\n\u001b[32m     13\u001b[39m \u001b[38;5;28;01mreturn\u001b[39;00m ids\n",
      "\u001b[31mKeyError\u001b[39m: 'Hello'"
     ]
    }
   ],
   "source": [
    "text = \"Hello, do you like tea?\"\n",
    "print(tokenizer.encode(text))"
   ]
  },
  {
   "cell_type": "markdown",
   "metadata": {},
   "source": [
    "<div class=\"alert alert-block alert-info\">\n",
    "    \n",
    "The problem is that the word \"Hello\" was not used in the The Verdict short story. \n",
    "\n",
    "Hence, it\n",
    "is not contained in the vocabulary. \n",
    "\n",
    "This highlights the need to consider large and diverse\n",
    "training sets to extend the vocabulary when working on LLMs.\n",
    "\n",
    "</div>"
   ]
  },
  {
   "cell_type": "markdown",
   "metadata": {},
   "source": [
    "### ADDING SPECIAL CONTEXT TOKENS\n",
    "\n",
    "In the previous section, we implemented a simple tokenizer and applied it to a passage\n",
    "from the training set. \n",
    "\n",
    "In this section, we will modify this tokenizer to handle unknown\n",
    "words.\n",
    "\n",
    "\n",
    "In particular, we will modify the vocabulary and tokenizer we implemented in the\n",
    "previous section, SimpleTokenizerV2, to support two new tokens, <|unk|> and\n",
    "<|endoftext|>"
   ]
  },
  {
   "cell_type": "markdown",
   "metadata": {},
   "source": [
    "<div class=\"alert alert-block alert-warning\">\n",
    "\n",
    "We can modify the tokenizer to use an <|unk|> token if it\n",
    "encounters a word that is not part of the vocabulary. \n",
    "\n",
    "Furthermore, we add a token between\n",
    "unrelated texts. \n",
    "\n",
    "For example, when training GPT-like LLMs on multiple independent\n",
    "documents or books, it is common to insert a token before each document or book that\n",
    "follows a previous text source\n",
    "\n",
    "</div>\n",
    "\n"
   ]
  },
  {
   "cell_type": "markdown",
   "metadata": {},
   "source": [
    "<div class=\"alert alert-block alert-success\">\n",
    "\n",
    "Let's now modify the vocabulary to include these two special tokens, <unk> and\n",
    "<|endoftext|>, by adding these to the list of all unique words that we created in the\n",
    "previous section:\n",
    "</div>"
   ]
  },
  {
   "cell_type": "code",
   "execution_count": 35,
   "metadata": {},
   "outputs": [
    {
     "name": "stdout",
     "output_type": "stream",
     "text": [
      "['year', 'years', 'yellow', 'yet', 'you', 'younger', 'your', 'yourself', '<|endoftext|>', '<|unk|>']\n"
     ]
    }
   ],
   "source": [
    "all_tokens = sorted(list(set(preprocessed)))\n",
    "all_tokens.extend([\"<|endoftext|>\", \"<|unk|>\"])\n",
    "print(all_tokens[-10:])\n",
    "\n",
    "vocab = {token:integer for integer,token in enumerate(all_tokens)}"
   ]
  },
  {
   "cell_type": "code",
   "execution_count": 36,
   "metadata": {},
   "outputs": [
    {
     "data": {
      "text/plain": [
       "1150"
      ]
     },
     "execution_count": 36,
     "metadata": {},
     "output_type": "execute_result"
    }
   ],
   "source": [
    "len(vocab.items())\n"
   ]
  },
  {
   "cell_type": "markdown",
   "metadata": {},
   "source": [
    "<div class=\"alert alert-block alert-info\">\n",
    "    \n",
    "Based on the output of the print statement above, the new vocabulary size is 1132 (the\n",
    "vocabulary size in the previous section was 1130).\n",
    "\n",
    "</div>\n",
    "\n"
   ]
  },
  {
   "cell_type": "markdown",
   "metadata": {},
   "source": [
    "<div class=\"alert alert-block alert-success\">\n",
    "\n",
    "As an additional quick check, let's print the last 5 entries of the updated vocabulary:\n",
    "</div>"
   ]
  },
  {
   "cell_type": "code",
   "execution_count": 38,
   "metadata": {},
   "outputs": [
    {
     "name": "stdout",
     "output_type": "stream",
     "text": [
      "('younger', 1145)\n",
      "('your', 1146)\n",
      "('yourself', 1147)\n",
      "('<|endoftext|>', 1148)\n",
      "('<|unk|>', 1149)\n"
     ]
    }
   ],
   "source": [
    "for i, item in enumerate(list(vocab.items())[-5:]):\n",
    "    print(item)"
   ]
  },
  {
   "cell_type": "markdown",
   "metadata": {},
   "source": [
    "<div class=\"alert alert-block alert-success\">\n",
    "\n",
    "A simple text tokenizer that handles unknown words</div>\n",
    "\n"
   ]
  },
  {
   "cell_type": "markdown",
   "metadata": {},
   "source": [
    "<div class=\"alert alert-block alert-info\">\n",
    "    \n",
    "Step 1: Replace unknown words by <|unk|> tokens\n",
    "    \n",
    "Step 2: Replace spaces before the specified punctuations\n",
    "\n",
    "</div>\n"
   ]
  },
  {
   "cell_type": "code",
   "execution_count": 40,
   "metadata": {},
   "outputs": [],
   "source": [
    "class SimpleTokenizerV2:\n",
    "    def __init__(self, vocab):\n",
    "        self.str_to_int = vocab\n",
    "        self.int_to_str = { i:s for s,i in vocab.items()}\n",
    "    \n",
    "    def encode(self, text):\n",
    "        preprocessed = re.split(r'([,.:;?_!\"()\\']|--|\\s)', text)\n",
    "        preprocessed = [item.strip() for item in preprocessed if item.strip()]\n",
    "        preprocessed = [\n",
    "            item if item in self.str_to_int \n",
    "            else \"<|unk|>\" for item in preprocessed\n",
    "        ]\n",
    "\n",
    "        ids = [self.str_to_int[s] for s in preprocessed]\n",
    "        return ids\n",
    "        \n",
    "    def decode(self, ids):\n",
    "        text = \" \".join([self.int_to_str[i] for i in ids])\n",
    "        # Replace spaces before the specified punctuations\n",
    "        text = re.sub(r'\\s+([,.:;?!\"()\\'])', r'\\1', text)\n",
    "        return text"
   ]
  },
  {
   "cell_type": "code",
   "execution_count": 41,
   "metadata": {},
   "outputs": [
    {
     "name": "stdout",
     "output_type": "stream",
     "text": [
      "Hello, do you like tea? <|endoftext|> In the sunlit terraces of the palace.\n"
     ]
    }
   ],
   "source": [
    "tokenizer = SimpleTokenizerV2(vocab)\n",
    "\n",
    "text1 = \"Hello, do you like tea?\"\n",
    "text2 = \"In the sunlit terraces of the palace.\"\n",
    "\n",
    "text = \" <|endoftext|> \".join((text1, text2))\n",
    "\n",
    "print(text)"
   ]
  },
  {
   "cell_type": "code",
   "execution_count": 42,
   "metadata": {},
   "outputs": [
    {
     "data": {
      "text/plain": [
       "[1149,\n",
       " 5,\n",
       " 372,\n",
       " 1144,\n",
       " 645,\n",
       " 993,\n",
       " 11,\n",
       " 1148,\n",
       " 61,\n",
       " 1006,\n",
       " 974,\n",
       " 1002,\n",
       " 740,\n",
       " 1006,\n",
       " 1149,\n",
       " 7]"
      ]
     },
     "execution_count": 42,
     "metadata": {},
     "output_type": "execute_result"
    }
   ],
   "source": [
    "tokenizer.encode(text)\n"
   ]
  },
  {
   "cell_type": "code",
   "execution_count": 43,
   "metadata": {},
   "outputs": [
    {
     "data": {
      "text/plain": [
       "'<|unk|>, do you like tea? <|endoftext|> In the sunlit terraces of the <|unk|>.'"
      ]
     },
     "execution_count": 43,
     "metadata": {},
     "output_type": "execute_result"
    }
   ],
   "source": [
    "tokenizer.decode(tokenizer.encode(text))"
   ]
  },
  {
   "cell_type": "markdown",
   "metadata": {},
   "source": [
    "\n",
    "<div class=\"alert alert-block alert-info\">\n",
    "    \n",
    "Based on comparing the de-tokenized text above with the original input text, we know that\n",
    "the training dataset, Edith Wharton's short story The Verdict, did not contain the words\n",
    "\"Hello\" and \"palace.\"\n",
    "\n",
    "</div>\n"
   ]
  },
  {
   "cell_type": "markdown",
   "metadata": {},
   "source": [
    "<div class=\"alert alert-block alert-warning\">\n",
    "\n",
    "So far, we have discussed tokenization as an essential step in processing text as input to\n",
    "LLMs. Depending on the LLM, some researchers also consider additional special tokens such\n",
    "as the following:\n",
    "\n",
    "[BOS] (beginning of sequence): This token marks the start of a text. It\n",
    "signifies to the LLM where a piece of content begins.\n",
    "\n",
    "[EOS] (end of sequence): This token is positioned at the end of a text,\n",
    "and is especially useful when concatenating multiple unrelated texts,\n",
    "similar to <|endoftext|>. For instance, when combining two different\n",
    "Wikipedia articles or books, the [EOS] token indicates where one article\n",
    "ends and the next one begins.\n",
    "\n",
    "[PAD] (padding): When training LLMs with batch sizes larger than one,\n",
    "the batch might contain texts of varying lengths. To ensure all texts have\n",
    "the same length, the shorter texts are extended or \"padded\" using the\n",
    "[PAD] token, up to the length of the longest text in the batch.\n",
    "\n",
    "</div>\n"
   ]
  },
  {
   "cell_type": "markdown",
   "metadata": {},
   "source": [
    "<div class=\"alert alert-block alert-warning\">\n",
    "\n",
    "Note that the tokenizer used for GPT models does not need any of these tokens mentioned\n",
    "above but only uses an <|endoftext|> token for simplicity\n",
    "\n",
    "</div>"
   ]
  },
  {
   "cell_type": "markdown",
   "metadata": {},
   "source": [
    "<div class=\"alert alert-block alert-warning\">\n",
    "\n",
    "the tokenizer used for GPT models also doesn't use an <|unk|> token for outof-vocabulary words. Instead, GPT models use a byte pair encoding tokenizer, which breaks\n",
    "down words into subword units\n",
    "</div>"
   ]
  },
  {
   "cell_type": "markdown",
   "metadata": {},
   "source": [
    "### BYTE PAIR ENCODING\n"
   ]
  },
  {
   "cell_type": "markdown",
   "metadata": {},
   "source": [
    "**BPE Tokenizer**"
   ]
  },
  {
   "cell_type": "code",
   "execution_count": 44,
   "metadata": {},
   "outputs": [
    {
     "name": "stdout",
     "output_type": "stream",
     "text": [
      "Collecting tiktoken\n",
      "  Downloading tiktoken-0.9.0-cp311-cp311-macosx_11_0_arm64.whl (1.0 MB)\n",
      "\u001b[2K     \u001b[90m━━━━━━━━━━━━━━━━━━━━━━━━━━━━━━━━━━━━━━━━\u001b[0m \u001b[32m1.0/1.0 MB\u001b[0m \u001b[31m6.7 MB/s\u001b[0m eta \u001b[36m0:00:00\u001b[0ma \u001b[36m0:00:01\u001b[0m\n",
      "\u001b[?25hCollecting regex>=2022.1.18\n",
      "  Downloading regex-2024.11.6-cp311-cp311-macosx_11_0_arm64.whl (284 kB)\n",
      "\u001b[2K     \u001b[90m━━━━━━━━━━━━━━━━━━━━━━━━━━━━━━━━━━━━━━\u001b[0m \u001b[32m284.6/284.6 kB\u001b[0m \u001b[31m11.3 MB/s\u001b[0m eta \u001b[36m0:00:00\u001b[0m\n",
      "\u001b[?25hCollecting requests>=2.26.0\n",
      "  Downloading requests-2.32.3-py3-none-any.whl (64 kB)\n",
      "\u001b[2K     \u001b[90m━━━━━━━━━━━━━━━━━━━━━━━━━━━━━━━━━━━━━━━━\u001b[0m \u001b[32m64.9/64.9 kB\u001b[0m \u001b[31m4.3 MB/s\u001b[0m eta \u001b[36m0:00:00\u001b[0m\n",
      "\u001b[?25hCollecting charset-normalizer<4,>=2\n",
      "  Downloading charset_normalizer-3.4.1-cp311-cp311-macosx_10_9_universal2.whl (194 kB)\n",
      "\u001b[2K     \u001b[90m━━━━━━━━━━━━━━━━━━━━━━━━━━━━━━━━━━━━━━\u001b[0m \u001b[32m195.0/195.0 kB\u001b[0m \u001b[31m11.3 MB/s\u001b[0m eta \u001b[36m0:00:00\u001b[0m\n",
      "\u001b[?25hCollecting idna<4,>=2.5\n",
      "  Downloading idna-3.10-py3-none-any.whl (70 kB)\n",
      "\u001b[2K     \u001b[90m━━━━━━━━━━━━━━━━━━━━━━━━━━━━━━━━━━━━━━━━\u001b[0m \u001b[32m70.4/70.4 kB\u001b[0m \u001b[31m5.3 MB/s\u001b[0m eta \u001b[36m0:00:00\u001b[0m\n",
      "\u001b[?25hCollecting urllib3<3,>=1.21.1\n",
      "  Downloading urllib3-2.3.0-py3-none-any.whl (128 kB)\n",
      "\u001b[2K     \u001b[90m━━━━━━━━━━━━━━━━━━━━━━━━━━━━━━━━━━━━━━━\u001b[0m \u001b[32m128.4/128.4 kB\u001b[0m \u001b[31m8.8 MB/s\u001b[0m eta \u001b[36m0:00:00\u001b[0m\n",
      "\u001b[?25hCollecting certifi>=2017.4.17\n",
      "  Downloading certifi-2025.1.31-py3-none-any.whl (166 kB)\n",
      "\u001b[2K     \u001b[90m━━━━━━━━━━━━━━━━━━━━━━━━━━━━━━━━━━━━━━\u001b[0m \u001b[32m166.4/166.4 kB\u001b[0m \u001b[31m11.2 MB/s\u001b[0m eta \u001b[36m0:00:00\u001b[0m\n",
      "\u001b[?25hInstalling collected packages: urllib3, regex, idna, charset-normalizer, certifi, requests, tiktoken\n",
      "Successfully installed certifi-2025.1.31 charset-normalizer-3.4.1 idna-3.10 regex-2024.11.6 requests-2.32.3 tiktoken-0.9.0 urllib3-2.3.0\n",
      "\n",
      "\u001b[1m[\u001b[0m\u001b[34;49mnotice\u001b[0m\u001b[1;39;49m]\u001b[0m\u001b[39;49m A new release of pip available: \u001b[0m\u001b[31;49m22.3.1\u001b[0m\u001b[39;49m -> \u001b[0m\u001b[32;49m25.0.1\u001b[0m\n",
      "\u001b[1m[\u001b[0m\u001b[34;49mnotice\u001b[0m\u001b[1;39;49m]\u001b[0m\u001b[39;49m To update, run: \u001b[0m\u001b[32;49mpip install --upgrade pip\u001b[0m\n"
     ]
    }
   ],
   "source": [
    "! pip3 install tiktoken"
   ]
  },
  {
   "cell_type": "code",
   "execution_count": 45,
   "metadata": {},
   "outputs": [
    {
     "name": "stdout",
     "output_type": "stream",
     "text": [
      "tiktoken version: 0.9.0\n"
     ]
    }
   ],
   "source": [
    "import importlib\n",
    "import tiktoken\n",
    "\n",
    "print(\"tiktoken version:\", importlib.metadata.version(\"tiktoken\"))"
   ]
  },
  {
   "cell_type": "code",
   "execution_count": 46,
   "metadata": {},
   "outputs": [],
   "source": [
    "tokenizer = tiktoken.get_encoding(\"gpt2\")"
   ]
  },
  {
   "cell_type": "markdown",
   "metadata": {},
   "source": [
    "<div class=\"alert alert-block alert-warning\">\n",
    "\n",
    "the tokenizer used for GPT models also doesn't use an <|unk|> token for outof-vocabulary words. Instead, GPT models use a byte pair encoding tokenizer, which breaks\n",
    "down words into subword units\n",
    "</div>"
   ]
  },
  {
   "cell_type": "code",
   "execution_count": 47,
   "metadata": {},
   "outputs": [
    {
     "name": "stdout",
     "output_type": "stream",
     "text": [
      "[15496, 11, 466, 345, 588, 8887, 30, 220, 50256, 554, 262, 4252, 18250, 8812, 2114, 1659, 617, 34680, 27271, 13]\n"
     ]
    }
   ],
   "source": [
    "text = (\n",
    "    \"Hello, do you like tea? <|endoftext|> In the sunlit terraces\"\n",
    "     \"of someunknownPlace.\"\n",
    ")\n",
    "\n",
    "integers = tokenizer.encode(text, allowed_special={\"<|endoftext|>\"})\n",
    "\n",
    "print(integers)"
   ]
  },
  {
   "cell_type": "code",
   "execution_count": 48,
   "metadata": {},
   "outputs": [
    {
     "name": "stdout",
     "output_type": "stream",
     "text": [
      "Hello, do you like tea? <|endoftext|> In the sunlit terracesof someunknownPlace.\n"
     ]
    }
   ],
   "source": [
    "strings = tokenizer.decode(integers)\n",
    "\n",
    "print(strings)"
   ]
  },
  {
   "cell_type": "markdown",
   "metadata": {},
   "source": [
    "**Exercise 2.1**"
   ]
  },
  {
   "cell_type": "code",
   "execution_count": 49,
   "metadata": {},
   "outputs": [
    {
     "name": "stdout",
     "output_type": "stream",
     "text": [
      "[33901, 86, 343, 86, 220, 959]\n",
      "Akwirw ier\n"
     ]
    }
   ],
   "source": [
    "integers = tokenizer.encode(\"Akwirw ier\")\n",
    "print(integers)\n",
    "\n",
    "strings = tokenizer.decode(integers)\n",
    "print(strings)"
   ]
  },
  {
   "cell_type": "markdown",
   "metadata": {},
   "source": [
    "**Data sampling with sliding window**"
   ]
  },
  {
   "cell_type": "code",
   "execution_count": 28,
   "metadata": {},
   "outputs": [
    {
     "name": "stdout",
     "output_type": "stream",
     "text": [
      "5145\n"
     ]
    }
   ],
   "source": [
    "with open(\"the-verdict.txt\", \"r\", encoding=\"utf-8\") as f:\n",
    "    raw_text = f.read()\n",
    "\n",
    "enc_text = tokenizer.encode(raw_text)\n",
    "print(len(enc_text))"
   ]
  },
  {
   "cell_type": "code",
   "execution_count": 29,
   "metadata": {},
   "outputs": [],
   "source": [
    "enc_sample = enc_text[50:]\n"
   ]
  },
  {
   "cell_type": "code",
   "execution_count": 30,
   "metadata": {},
   "outputs": [
    {
     "name": "stdout",
     "output_type": "stream",
     "text": [
      "x: [290, 4920, 2241, 287]\n",
      "y:      [4920, 2241, 287, 257]\n"
     ]
    }
   ],
   "source": [
    "context_size = 4\n",
    "\n",
    "x = enc_sample[:context_size]\n",
    "y = enc_sample[1:context_size+1]\n",
    "\n",
    "print(f\"x: {x}\")\n",
    "print(f\"y:      {y}\")"
   ]
  },
  {
   "cell_type": "code",
   "execution_count": 31,
   "metadata": {},
   "outputs": [
    {
     "name": "stdout",
     "output_type": "stream",
     "text": [
      "[290] ----> 4920\n",
      "[290, 4920] ----> 2241\n",
      "[290, 4920, 2241] ----> 287\n",
      "[290, 4920, 2241, 287] ----> 257\n"
     ]
    }
   ],
   "source": [
    "for i in range(1, context_size+1):\n",
    "    context = enc_sample[:i]\n",
    "    desired = enc_sample[i]\n",
    "\n",
    "    print(context, \"---->\", desired)"
   ]
  },
  {
   "cell_type": "code",
   "execution_count": 32,
   "metadata": {},
   "outputs": [
    {
     "name": "stdout",
     "output_type": "stream",
     "text": [
      " and ---->  established\n",
      " and established ---->  himself\n",
      " and established himself ---->  in\n",
      " and established himself in ---->  a\n"
     ]
    }
   ],
   "source": [
    "for i in range(1, context_size+1):\n",
    "    context = enc_sample[:i]\n",
    "    desired = enc_sample[i]\n",
    "\n",
    "    print(tokenizer.decode(context), \"---->\", tokenizer.decode([desired]))"
   ]
  },
  {
   "cell_type": "markdown",
   "metadata": {},
   "source": [
    "**IMPLEMENTING A DATA LOADER**"
   ]
  },
  {
   "cell_type": "code",
   "execution_count": 33,
   "metadata": {},
   "outputs": [],
   "source": [
    "from torch.utils.data import Dataset, DataLoader\n",
    "\n",
    "\n",
    "class GPTDatasetV1(Dataset):\n",
    "    def __init__(self, txt, tokenizer, max_length, stride):\n",
    "        self.input_ids = []\n",
    "        self.target_ids = []\n",
    "\n",
    "        # Tokenize the entire text\n",
    "        token_ids = tokenizer.encode(txt, allowed_special={\"<|endoftext|>\"})\n",
    "\n",
    "        # Use a sliding window to chunk the book into overlapping sequences of max_length\n",
    "        for i in range(0, len(token_ids) - max_length, stride):\n",
    "            input_chunk = token_ids[i:i + max_length]\n",
    "            target_chunk = token_ids[i + 1: i + max_length + 1]\n",
    "            self.input_ids.append(torch.tensor(input_chunk))\n",
    "            self.target_ids.append(torch.tensor(target_chunk))\n",
    "\n",
    "    def __len__(self):\n",
    "        return len(self.input_ids)\n",
    "\n",
    "    def __getitem__(self, idx):\n",
    "        return self.input_ids[idx], self.target_ids[idx]"
   ]
  },
  {
   "cell_type": "code",
   "execution_count": 34,
   "metadata": {},
   "outputs": [],
   "source": [
    "def create_dataloader_v1(txt, batch_size=4, max_length=256, \n",
    "                         stride=128, shuffle=True, drop_last=True,\n",
    "                         num_workers=0):\n",
    "\n",
    "    # Initialize the tokenizer\n",
    "    tokenizer = tiktoken.get_encoding(\"gpt2\")\n",
    "\n",
    "    # Create dataset\n",
    "    dataset = GPTDatasetV1(txt, tokenizer, max_length, stride)\n",
    "\n",
    "    # Create dataloader\n",
    "    dataloader = DataLoader(\n",
    "        dataset,\n",
    "        batch_size=batch_size,\n",
    "        shuffle=shuffle,\n",
    "        drop_last=drop_last,\n",
    "        num_workers=num_workers\n",
    "    )\n",
    "\n",
    "    return dataloader"
   ]
  },
  {
   "cell_type": "code",
   "execution_count": 35,
   "metadata": {},
   "outputs": [],
   "source": [
    "with open(\"the-verdict.txt\", \"r\", encoding=\"utf-8\") as f:\n",
    "    raw_text = f.read()"
   ]
  },
  {
   "cell_type": "code",
   "execution_count": 36,
   "metadata": {},
   "outputs": [
    {
     "name": "stdout",
     "output_type": "stream",
     "text": [
      "PyTorch version: 2.3.0\n",
      "[tensor([[  40,  367, 2885, 1464]]), tensor([[ 367, 2885, 1464, 1807]])]\n"
     ]
    }
   ],
   "source": [
    "import torch\n",
    "print(\"PyTorch version:\", torch.__version__)\n",
    "dataloader = create_dataloader_v1(\n",
    "    raw_text, batch_size=1, max_length=4, stride=1, shuffle=False\n",
    ")\n",
    "\n",
    "data_iter = iter(dataloader)\n",
    "first_batch = next(data_iter)\n",
    "print(first_batch)"
   ]
  },
  {
   "cell_type": "code",
   "execution_count": 37,
   "metadata": {},
   "outputs": [
    {
     "name": "stdout",
     "output_type": "stream",
     "text": [
      "[tensor([[ 367, 2885, 1464, 1807]]), tensor([[2885, 1464, 1807, 3619]])]\n"
     ]
    }
   ],
   "source": [
    "second_batch = next(data_iter)\n",
    "print(second_batch)"
   ]
  },
  {
   "cell_type": "code",
   "execution_count": 38,
   "metadata": {},
   "outputs": [
    {
     "name": "stdout",
     "output_type": "stream",
     "text": [
      "Inputs:\n",
      " tensor([[   40,   367,  2885,  1464],\n",
      "        [ 1807,  3619,   402,   271],\n",
      "        [10899,  2138,   257,  7026],\n",
      "        [15632,   438,  2016,   257],\n",
      "        [  922,  5891,  1576,   438],\n",
      "        [  568,   340,   373,   645],\n",
      "        [ 1049,  5975,   284,   502],\n",
      "        [  284,  3285,   326,    11]])\n",
      "\n",
      "Targets:\n",
      " tensor([[  367,  2885,  1464,  1807],\n",
      "        [ 3619,   402,   271, 10899],\n",
      "        [ 2138,   257,  7026, 15632],\n",
      "        [  438,  2016,   257,   922],\n",
      "        [ 5891,  1576,   438,   568],\n",
      "        [  340,   373,   645,  1049],\n",
      "        [ 5975,   284,   502,   284],\n",
      "        [ 3285,   326,    11,   287]])\n"
     ]
    }
   ],
   "source": [
    "dataloader = create_dataloader_v1(raw_text, batch_size=8, max_length=4, stride=4, shuffle=False)\n",
    "\n",
    "data_iter = iter(dataloader)\n",
    "inputs, targets = next(data_iter)\n",
    "print(\"Inputs:\\n\", inputs)\n",
    "print(\"\\nTargets:\\n\", targets)"
   ]
  },
  {
   "cell_type": "markdown",
   "metadata": {},
   "source": [
    "**CREATE TOKEN EMBEDDINGS**"
   ]
  },
  {
   "cell_type": "code",
   "execution_count": 39,
   "metadata": {},
   "outputs": [],
   "source": [
    "input_ids = torch.tensor([2, 3, 5, 1])\n"
   ]
  },
  {
   "cell_type": "code",
   "execution_count": 40,
   "metadata": {},
   "outputs": [],
   "source": [
    "vocab_size = 6\n",
    "output_dim = 3\n",
    "\n",
    "torch.manual_seed(123)\n",
    "embedding_layer = torch.nn.Embedding(vocab_size, output_dim)"
   ]
  },
  {
   "cell_type": "code",
   "execution_count": 41,
   "metadata": {},
   "outputs": [
    {
     "name": "stdout",
     "output_type": "stream",
     "text": [
      "Parameter containing:\n",
      "tensor([[ 0.3374, -0.1778, -0.1690],\n",
      "        [ 0.9178,  1.5810,  1.3010],\n",
      "        [ 1.2753, -0.2010, -0.1606],\n",
      "        [-0.4015,  0.9666, -1.1481],\n",
      "        [-1.1589,  0.3255, -0.6315],\n",
      "        [-2.8400, -0.7849, -1.4096]], requires_grad=True)\n"
     ]
    }
   ],
   "source": [
    "print(embedding_layer.weight)\n"
   ]
  },
  {
   "cell_type": "code",
   "execution_count": 42,
   "metadata": {},
   "outputs": [
    {
     "name": "stdout",
     "output_type": "stream",
     "text": [
      "tensor([[-0.4015,  0.9666, -1.1481]], grad_fn=<EmbeddingBackward0>)\n"
     ]
    }
   ],
   "source": [
    "print(embedding_layer(torch.tensor([3])))\n"
   ]
  },
  {
   "cell_type": "code",
   "execution_count": 43,
   "metadata": {},
   "outputs": [
    {
     "name": "stdout",
     "output_type": "stream",
     "text": [
      "tensor([[ 1.2753, -0.2010, -0.1606],\n",
      "        [-0.4015,  0.9666, -1.1481],\n",
      "        [-2.8400, -0.7849, -1.4096],\n",
      "        [ 0.9178,  1.5810,  1.3010]], grad_fn=<EmbeddingBackward0>)\n"
     ]
    }
   ],
   "source": [
    "print(embedding_layer(input_ids))\n"
   ]
  },
  {
   "cell_type": "markdown",
   "metadata": {},
   "source": [
    "**POSITIONAL EMBEDDINGS (ENCODING WORD POSITIONS)**"
   ]
  },
  {
   "cell_type": "code",
   "execution_count": 44,
   "metadata": {},
   "outputs": [],
   "source": [
    "vocab_size = 50257\n",
    "output_dim = 256\n",
    "\n",
    "token_embedding_layer = torch.nn.Embedding(vocab_size, output_dim)"
   ]
  },
  {
   "cell_type": "code",
   "execution_count": 45,
   "metadata": {},
   "outputs": [],
   "source": [
    "max_length = 4\n",
    "dataloader = create_dataloader_v1(\n",
    "    raw_text, batch_size=8, max_length=max_length,\n",
    "    stride=max_length, shuffle=False\n",
    ")\n",
    "data_iter = iter(dataloader)\n",
    "inputs, targets = next(data_iter)"
   ]
  },
  {
   "cell_type": "code",
   "execution_count": 46,
   "metadata": {},
   "outputs": [
    {
     "name": "stdout",
     "output_type": "stream",
     "text": [
      "Token IDs:\n",
      " tensor([[   40,   367,  2885,  1464],\n",
      "        [ 1807,  3619,   402,   271],\n",
      "        [10899,  2138,   257,  7026],\n",
      "        [15632,   438,  2016,   257],\n",
      "        [  922,  5891,  1576,   438],\n",
      "        [  568,   340,   373,   645],\n",
      "        [ 1049,  5975,   284,   502],\n",
      "        [  284,  3285,   326,    11]])\n",
      "\n",
      "Inputs shape:\n",
      " torch.Size([8, 4])\n"
     ]
    }
   ],
   "source": [
    "print(\"Token IDs:\\n\", inputs)\n",
    "print(\"\\nInputs shape:\\n\", inputs.shape)"
   ]
  },
  {
   "cell_type": "code",
   "execution_count": 47,
   "metadata": {},
   "outputs": [
    {
     "name": "stdout",
     "output_type": "stream",
     "text": [
      "torch.Size([8, 4, 256])\n"
     ]
    }
   ],
   "source": [
    "token_embeddings = token_embedding_layer(inputs)\n",
    "print(token_embeddings.shape)"
   ]
  },
  {
   "cell_type": "code",
   "execution_count": 48,
   "metadata": {},
   "outputs": [],
   "source": [
    "context_length = max_length\n",
    "pos_embedding_layer = torch.nn.Embedding(context_length, output_dim)"
   ]
  },
  {
   "cell_type": "code",
   "execution_count": 49,
   "metadata": {},
   "outputs": [
    {
     "name": "stdout",
     "output_type": "stream",
     "text": [
      "torch.Size([4, 256])\n"
     ]
    }
   ],
   "source": [
    "pos_embeddings = pos_embedding_layer(torch.arange(max_length))\n",
    "print(pos_embeddings.shape)"
   ]
  },
  {
   "cell_type": "code",
   "execution_count": 50,
   "metadata": {},
   "outputs": [
    {
     "name": "stdout",
     "output_type": "stream",
     "text": [
      "torch.Size([8, 4, 256])\n"
     ]
    }
   ],
   "source": [
    "input_embeddings = token_embeddings + pos_embeddings\n",
    "print(input_embeddings.shape)"
   ]
  },
  {
   "cell_type": "code",
   "execution_count": null,
   "metadata": {},
   "outputs": [],
   "source": []
  }
 ],
 "metadata": {
  "kernelspec": {
   "display_name": "3.11.3",
   "language": "python",
   "name": "python3"
  },
  "language_info": {
   "codemirror_mode": {
    "name": "ipython",
    "version": 3
   },
   "file_extension": ".py",
   "mimetype": "text/x-python",
   "name": "python",
   "nbconvert_exporter": "python",
   "pygments_lexer": "ipython3",
   "version": "3.11.3"
  }
 },
 "nbformat": 4,
 "nbformat_minor": 4
}
